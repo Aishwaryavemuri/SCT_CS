{
  "nbformat": 4,
  "nbformat_minor": 0,
  "metadata": {
    "colab": {
      "provenance": [],
      "authorship_tag": "ABX9TyM0eFGUy+iejL8YAAvuiEEY",
      "include_colab_link": true
    },
    "kernelspec": {
      "name": "python3",
      "display_name": "Python 3"
    },
    "language_info": {
      "name": "python"
    }
  },
  "cells": [
    {
      "cell_type": "markdown",
      "metadata": {
        "id": "view-in-github",
        "colab_type": "text"
      },
      "source": [
        "<a href=\"https://colab.research.google.com/github/Aishwaryavemuri/SCT_CS/blob/main/SCT_CS_3.ipynb\" target=\"_parent\"><img src=\"https://colab.research.google.com/assets/colab-badge.svg\" alt=\"Open In Colab\"/></a>"
      ]
    },
    {
      "cell_type": "code",
      "execution_count": 1,
      "metadata": {
        "colab": {
          "base_uri": "https://localhost:8080/"
        },
        "id": "nxx--fUv659w",
        "outputId": "e4edf453-56cd-4ddc-86d8-4c78d12a12bd"
      },
      "outputs": [
        {
          "output_type": "stream",
          "name": "stdout",
          "text": [
            "Enter a password to check strength: Asdfghjkl;1\n",
            "\n",
            "Password Strength: Medium\n",
            "Checklist:\n",
            "✅ Minimum 8 characters\n",
            "✅ At least 1 lowercase letter\n",
            "✅ At least 1 uppercase letter\n",
            "✅ At least 1 digit\n",
            "❌ At least 1 special character\n"
          ]
        }
      ],
      "source": [
        "import re\n",
        "\n",
        "def check_password_strength(password):\n",
        "    length_error = len(password) < 8\n",
        "    lowercase_error = not re.search(r\"[a-z]\", password)\n",
        "    uppercase_error = not re.search(r\"[A-Z]\", password)\n",
        "    digit_error = not re.search(r\"[0-9]\", password)\n",
        "    special_char_error = not re.search(r\"[!@#$%^&*(),.?\\\":{}|<>]\", password)\n",
        "\n",
        "    errors = {\n",
        "        \"Minimum 8 characters\": not length_error,\n",
        "        \"At least 1 lowercase letter\": not lowercase_error,\n",
        "        \"At least 1 uppercase letter\": not uppercase_error,\n",
        "        \"At least 1 digit\": not digit_error,\n",
        "        \"At least 1 special character\": not special_char_error\n",
        "    }\n",
        "\n",
        "    score = sum(errors.values())\n",
        "\n",
        "    if score == 5:\n",
        "        strength = \"Strong\"\n",
        "    elif 3 <= score < 5:\n",
        "        strength = \"Medium\"\n",
        "    else:\n",
        "        strength = \"Weak\"\n",
        "\n",
        "    print(f\"\\nPassword Strength: {strength}\")\n",
        "    print(\"Checklist:\")\n",
        "    for rule, passed in errors.items():\n",
        "        status = \"✅\" if passed else \"❌\"\n",
        "        print(f\"{status} {rule}\")\n",
        "\n",
        "# User input\n",
        "user_password = input(\"Enter a password to check strength: \")\n",
        "check_password_strength(user_password)"
      ]
    }
  ]
}