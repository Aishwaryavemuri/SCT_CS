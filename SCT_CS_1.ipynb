{
  "nbformat": 4,
  "nbformat_minor": 0,
  "metadata": {
    "colab": {
      "provenance": [],
      "authorship_tag": "ABX9TyM6tgVogekuhodicWOfUngb",
      "include_colab_link": true
    },
    "kernelspec": {
      "name": "python3",
      "display_name": "Python 3"
    },
    "language_info": {
      "name": "python"
    }
  },
  "cells": [
    {
      "cell_type": "markdown",
      "metadata": {
        "id": "view-in-github",
        "colab_type": "text"
      },
      "source": [
        "<a href=\"https://colab.research.google.com/github/Aishwaryavemuri/SCT_CS/blob/main/SCT_CS_1.ipynb\" target=\"_parent\"><img src=\"https://colab.research.google.com/assets/colab-badge.svg\" alt=\"Open In Colab\"/></a>"
      ]
    },
    {
      "cell_type": "code",
      "execution_count": 2,
      "metadata": {
        "colab": {
          "base_uri": "https://localhost:8080/"
        },
        "id": "-8rFjHWydIv3",
        "outputId": "5dcdfd95-9736-4820-ca7d-f27dc5356168"
      },
      "outputs": [
        {
          "output_type": "stream",
          "name": "stdout",
          "text": [
            "Caesar Cipher Program\n",
            "Type 'encrypt' or 'decrypt': encrypt\n",
            "Enter your message: hello welcome to my project\n",
            "Enter the shift value (integer): 4\n",
            "Encrypted message: lipps aipgsqi xs qc tvsnigx\n"
          ]
        }
      ],
      "source": [
        "def encrypt(text, shift):\n",
        "    result = \"\"\n",
        "    for char in text:\n",
        "        if char.isalpha():\n",
        "            base = ord('A') if char.isupper() else ord('a')\n",
        "            result += chr((ord(char) - base + shift) % 26 + base)\n",
        "        else:\n",
        "            result += char\n",
        "    return result\n",
        "\n",
        "def decrypt(text, shift):\n",
        "    return encrypt(text, -shift)\n",
        "\n",
        "def main():\n",
        "    print(\"Caesar Cipher Program\")\n",
        "    choice = input(\"Type 'encrypt' or 'decrypt': \").strip().lower()\n",
        "    message = input(\"Enter your message: \")\n",
        "\n",
        "    while True:\n",
        "        try:\n",
        "            shift = int(input(\"Enter the shift value (integer): \"))\n",
        "            break\n",
        "        except ValueError:\n",
        "            print(\"Please enter a valid integer.\")\n",
        "\n",
        "    if choice == \"encrypt\":\n",
        "        result = encrypt(message, shift)\n",
        "        print(\"Encrypted message:\", result)\n",
        "    elif choice == \"decrypt\":\n",
        "        result = decrypt(message, shift)\n",
        "        print(\"Decrypted message:\", result)\n",
        "    else:\n",
        "        print(\"Invalid choice. Please type 'encrypt' or 'decrypt'.\")\n",
        "\n",
        "if __name__ == \"__main__\":\n",
        "    main()"
      ]
    }
  ]
}